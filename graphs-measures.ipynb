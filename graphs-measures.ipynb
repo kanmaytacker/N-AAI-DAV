{
 "cells": [
  {
   "cell_type": "code",
   "execution_count": 43,
   "metadata": {},
   "outputs": [],
   "source": [
    "import pandas as pd\n",
    "import numpy as np\n",
    "import networkx as nx\n",
    "import matplotlib.pyplot as plt\n",
    "import scipy as sp"
   ]
  },
  {
   "cell_type": "code",
   "execution_count": 2,
   "metadata": {},
   "outputs": [
    {
     "data": {
      "image/png": "[encoded data removed]",
      "text/plain": [
       "<Figure size 432x288 with 1 Axes>"
      ]
     },
     "metadata": {},
     "output_type": "display_data"
    }
   ],
   "source": [
    "# Draw a circulant graph\n",
    "circulant_graph = nx.circulant_graph(5, [1])\n",
    "nx.draw(circulant_graph, with_labels=True)"
   ]
  },
  {
   "cell_type": "markdown",
   "metadata": {},
   "source": [
    "## Degree centrality"
   ]
  },
  {
   "cell_type": "code",
   "execution_count": 4,
   "metadata": {},
   "outputs": [
    {
     "data": {
      "text/plain": [
       "DegreeView({0: 2, 1: 2, 2: 2, 3: 2, 4: 2})"
      ]
     },
     "execution_count": 4,
     "metadata": {},
     "output_type": "execute_result"
    }
   ],
   "source": [
    "# Degree distribution\n",
    "circulant_graph.degree()"
   ]
  },
  {
   "cell_type": "code",
   "execution_count": 5,
   "metadata": {},
   "outputs": [
    {
     "data": {
      "text/plain": [
       "{0: 0.5, 1: 0.5, 2: 0.5, 3: 0.5, 4: 0.5}"
      ]
     },
     "execution_count": 5,
     "metadata": {},
     "output_type": "execute_result"
    }
   ],
   "source": [
    "# Degree centrality\n",
    "nx.degree_centrality(circulant_graph)"
   ]
  },
  {
   "cell_type": "markdown",
   "metadata": {},
   "source": [
    "\\begin{equation}\n",
    "C_{D}(x) = \\frac{k_i}{n-1}\n",
    "\\end{equation}"
   ]
  },
  {
   "cell_type": "code",
   "execution_count": 11,
   "metadata": {},
   "outputs": [],
   "source": [
    "circulant_graph_degrees = [degree for node, degree in circulant_graph.degree()]\n",
    "circulant_degree_centrality = list(nx.degree_centrality(circulant_graph).values())"
   ]
  },
  {
   "cell_type": "code",
   "execution_count": 16,
   "metadata": {},
   "outputs": [
    {
     "data": {
      "text/plain": [
       "[0.5, 0.5, 0.5, 0.5, 0.5]"
      ]
     },
     "execution_count": 16,
     "metadata": {},
     "output_type": "execute_result"
    }
   ],
   "source": [
    "node_count = len(circulant_graph.nodes)\n",
    "degree_centrality_hat = [degree / (node_count - 1) for degree in circulant_graph_degrees]\n",
    "degree_centrality_hat"
   ]
  },
  {
   "cell_type": "code",
   "execution_count": 17,
   "metadata": {},
   "outputs": [],
   "source": [
    "np.testing.assert_array_equal(degree_centrality_hat, circulant_degree_centrality)"
   ]
  },
  {
   "cell_type": "markdown",
   "metadata": {},
   "source": [
    "## Eigenvector centrality"
   ]
  },
  {
   "cell_type": "markdown",
   "metadata": {},
   "source": [
    "### Eigenvectors and eigenvalues"
   ]
  },
  {
   "cell_type": "code",
   "execution_count": 60,
   "metadata": {},
   "outputs": [
    {
     "data": {
      "text/plain": [
       "array([-1., -2.])"
      ]
     },
     "execution_count": 60,
     "metadata": {},
     "output_type": "execute_result"
    }
   ],
   "source": [
    "A = np.array([[0, 1], [-2, -3]])\n",
    "value, vectors = np.linalg.eig(A)\n",
    "value"
   ]
  },
  {
   "cell_type": "code",
   "execution_count": 51,
   "metadata": {},
   "outputs": [
    {
     "data": {
      "text/plain": [
       "0.7071067811865475"
      ]
     },
     "execution_count": 51,
     "metadata": {},
     "output_type": "execute_result"
    }
   ],
   "source": [
    "# Numpy returns normalised results\n",
    "1 / np.linalg.norm([1, -1])"
   ]
  },
  {
   "cell_type": "markdown",
   "metadata": {},
   "source": [
    "### Eigenvector centrality"
   ]
  },
  {
   "cell_type": "markdown",
   "metadata": {},
   "source": [
    "$$\n",
    "\\textbf{Eigenvector centrality is based on the concept of importance of neigbours}. \\\\\n",
    "$$\n",
    "\n",
    "\\begin{equation*}\n",
    "C_{E}(x_{i}) = \\kappa^{-1} \\sum_{j \\in neighbors(i)} C_E(x_{j})\n",
    "\\end{equation*}\n",
    "\\begin{equation*}\n",
    "C_{E}(x_{i}) = \\kappa^{-1} \\sum_{j=1}^{n} A_{ij}C_E(x_{j})\n",
    "\\end{equation*}\n",
    "\n",
    "$$\n",
    "\\textbf{Rewriting in matrix notation:} \\\\\n",
    "$$\n",
    "\\begin{equation*}\n",
    "    \\textbf{C} = \\kappa^{-1} \\textbf{A}\\textbf{C}\n",
    "\\end{equation*}\n",
    "\\begin{equation*}\n",
    "    \\textbf{C} \\kappa =  \\textbf{A}\\textbf{C}\n",
    "\\end{equation*}"
   ]
  },
  {
   "cell_type": "code",
   "execution_count": 136,
   "metadata": {},
   "outputs": [
    {
     "data": {
      "text/plain": [
       "[0.4472135954999579,\n",
       " 0.4472135954999579,\n",
       " 0.4472135954999579,\n",
       " 0.4472135954999579,\n",
       " 0.4472135954999579]"
      ]
     },
     "execution_count": 136,
     "metadata": {},
     "output_type": "execute_result"
    }
   ],
   "source": [
    "# Find expected values of centrality\n",
    "eigen_vector_centrality = list(nx.eigenvector_centrality(circulant_graph).values())\n",
    "eigen_vector_centrality"
   ]
  },
  {
   "cell_type": "code",
   "execution_count": 143,
   "metadata": {},
   "outputs": [
    {
     "data": {
      "text/plain": [
       "array([-1.61803399,  0.61803399,  2.        , -1.61803399,  0.61803399])"
      ]
     },
     "execution_count": 143,
     "metadata": {},
     "output_type": "execute_result"
    }
   ],
   "source": [
    "# Compute adjacency matrix and its eigenvalues\n",
    "A = nx.adjacency_matrix(circulant_graph).todense()\n",
    "eigenvalues, eigenvectors = np.linalg.eig(A)\n",
    "eigenvalues"
   ]
  },
  {
   "cell_type": "code",
   "execution_count": 144,
   "metadata": {},
   "outputs": [
    {
     "data": {
      "text/plain": [
       "2"
      ]
     },
     "execution_count": 144,
     "metadata": {},
     "output_type": "execute_result"
    }
   ],
   "source": [
    "# Find the largest eigenvalue\n",
    "largest_eigenvalue = np.argmax(eigenvalues)\n",
    "largest_eigenvalue"
   ]
  },
  {
   "cell_type": "code",
   "execution_count": 145,
   "metadata": {},
   "outputs": [
    {
     "data": {
      "text/plain": [
       "array([-0.4472136, -0.4472136, -0.4472136, -0.4472136, -0.4472136])"
      ]
     },
     "execution_count": 145,
     "metadata": {},
     "output_type": "execute_result"
    }
   ],
   "source": [
    "# Find the corresponding eigenvector\n",
    "primary_eigen_vector = eigenvectors[:, largest_eigenvalue].flatten().A1\n",
    "primary_eigen_vector"
   ]
  },
  {
   "cell_type": "code",
   "execution_count": 146,
   "metadata": {},
   "outputs": [
    {
     "data": {
      "text/plain": [
       "-1.0"
      ]
     },
     "execution_count": 146,
     "metadata": {},
     "output_type": "execute_result"
    }
   ],
   "source": [
    "# Find the normalising denominator\n",
    "norm = np.sign(primary_eigen_vector.sum()) * np.linalg.norm(primary_eigen_vector)\n",
    "norm"
   ]
  },
  {
   "cell_type": "code",
   "execution_count": 138,
   "metadata": {},
   "outputs": [
    {
     "data": {
      "text/plain": [
       "array([0.4472136, 0.4472136, 0.4472136, 0.4472136, 0.4472136])"
      ]
     },
     "execution_count": 138,
     "metadata": {},
     "output_type": "execute_result"
    }
   ],
   "source": [
    "# Compute the actual values for the centrality\n",
    "eigen_vector_centrality_hat = primary_eigen_vector / norm\n",
    "eigen_vector_centrality_hat"
   ]
  },
  {
   "cell_type": "code",
   "execution_count": 147,
   "metadata": {},
   "outputs": [],
   "source": [
    "# Check if implementation is correct\n",
    "np.testing.assert_array_almost_equal(eigen_vector_centrality_hat, eigen_vector_centrality)"
   ]
  },
  {
   "cell_type": "code",
   "execution_count": 140,
   "metadata": {},
   "outputs": [],
   "source": [
    "def compute_eigenvector_centrality(graph):\n",
    "    # Generate adjacency matrix\n",
    "    A = nx.adjacency_matrix(graph).todense()\n",
    "\n",
    "    # Compute eigenvalues and eigenvectors\n",
    "    eigenvalues, eigenvectors = np.linalg.eig(A)\n",
    "\n",
    "    # Find the index of the largest eigenvalue\n",
    "    largest_eigenvalue = np.argmax(eigenvalues)\n",
    "\n",
    "    # Find the eigenvector corresponding to the largest eigenvalue\n",
    "    primary_eigen_vector = eigenvectors[:, largest_eigenvalue].flatten().A1\n",
    "\n",
    "    # Compute the norm of the eigenvector\n",
    "    norm = np.sign(primary_eigen_vector.sum()) * np.linalg.norm(primary_eigen_vector)\n",
    "\n",
    "    # Compute the eigenvector centrality\n",
    "    eigen_vector_centrality = primary_eigen_vector / norm\n",
    "\n",
    "    return eigen_vector_centrality"
   ]
  },
  {
   "cell_type": "code",
   "execution_count": 141,
   "metadata": {},
   "outputs": [],
   "source": [
    "np.testing.assert_array_almost_equal(compute_eigenvector_centrality(circulant_graph), eigen_vector_centrality)"
   ]
  },
  {
   "cell_type": "code",
   "execution_count": null,
   "metadata": {},
   "outputs": [],
   "source": []
  }
 ],
 "metadata": {
  "interpreter": {
   "hash": "90a55106368931a13ee11cd663ede7fedc6d974cad89dbc2c616a0fca0111985"
  },
  "kernelspec": {
   "display_name": "Python 3.9.1 64-bit ('DAV': pyenv)",
   "language": "python",
   "name": "python3"
  },
  "language_info": {
   "codemirror_mode": {
    "name": "ipython",
    "version": 3
   },
   "file_extension": ".py",
   "mimetype": "text/x-python",
   "name": "python",
   "nbconvert_exporter": "python",
   "pygments_lexer": "ipython3",
   "version": "3.9.1"
  },
  "orig_nbformat": 4
 },
 "nbformat": 4,
 "nbformat_minor": 2
}

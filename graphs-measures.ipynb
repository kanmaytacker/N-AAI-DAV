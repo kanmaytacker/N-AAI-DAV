{
 "cells": [
  {
   "cell_type": "code",
   "execution_count": 2,
   "metadata": {},
   "outputs": [],
   "source": [
    "import pandas as pd\n",
    "import numpy as np\n",
    "import networkx as nx\n",
    "import matplotlib.pyplot as plt\n",
    "import scipy as sp"
   ]
  },
  {
   "cell_type": "code",
   "execution_count": 3,
   "metadata": {},
   "outputs": [
    {
     "data": {
      "image/png": "[encoded data removed]",
      "text/plain": [
       "<Figure size 432x288 with 1 Axes>"
      ]
     },
     "metadata": {},
     "output_type": "display_data"
    }
   ],
   "source": [
    "# Draw a circulant graph\n",
    "circulant_graph = nx.circulant_graph(5, [1])\n",
    "nx.draw(circulant_graph, with_labels=True)"
   ]
  },
  {
   "cell_type": "markdown",
   "metadata": {},
   "source": [
    "## Degree centrality"
   ]
  },
  {
   "cell_type": "code",
   "execution_count": 4,
   "metadata": {},
   "outputs": [
    {
     "data": {
      "text/plain": [
       "DegreeView({0: 2, 1: 2, 2: 2, 3: 2, 4: 2})"
      ]
     },
     "execution_count": 4,
     "metadata": {},
     "output_type": "execute_result"
    }
   ],
   "source": [
    "# Degree distribution\n",
    "circulant_graph.degree()"
   ]
  },
  {
   "cell_type": "code",
   "execution_count": 5,
   "metadata": {},
   "outputs": [
    {
     "data": {
      "text/plain": [
       "{0: 0.5, 1: 0.5, 2: 0.5, 3: 0.5, 4: 0.5}"
      ]
     },
     "execution_count": 5,
     "metadata": {},
     "output_type": "execute_result"
    }
   ],
   "source": [
    "# Degree centrality\n",
    "nx.degree_centrality(circulant_graph)"
   ]
  },
  {
   "cell_type": "markdown",
   "metadata": {},
   "source": [
    "\\begin{equation}\n",
    "C_{D}(x) = \\frac{k_i}{n-1}\n",
    "\\end{equation}"
   ]
  },
  {
   "cell_type": "code",
   "execution_count": 6,
   "metadata": {},
   "outputs": [],
   "source": [
    "circulant_graph_degrees = [degree for node, degree in circulant_graph.degree()]\n",
    "circulant_degree_centrality = list(nx.degree_centrality(circulant_graph).values())"
   ]
  },
  {
   "cell_type": "code",
   "execution_count": 7,
   "metadata": {},
   "outputs": [
    {
     "data": {
      "text/plain": [
       "[0.5, 0.5, 0.5, 0.5, 0.5]"
      ]
     },
     "execution_count": 7,
     "metadata": {},
     "output_type": "execute_result"
    }
   ],
   "source": [
    "node_count = len(circulant_graph.nodes)\n",
    "degree_centrality_hat = [degree / (node_count - 1) for degree in circulant_graph_degrees]\n",
    "degree_centrality_hat"
   ]
  },
  {
   "cell_type": "code",
   "execution_count": 8,
   "metadata": {},
   "outputs": [],
   "source": [
    "np.testing.assert_array_equal(degree_centrality_hat, circulant_degree_centrality)"
   ]
  },
  {
   "cell_type": "markdown",
   "metadata": {},
   "source": [
    "## Eigenvector centrality"
   ]
  },
  {
   "cell_type": "markdown",
   "metadata": {},
   "source": [
    "### Eigenvectors and eigenvalues"
   ]
  },
  {
   "cell_type": "code",
   "execution_count": 9,
   "metadata": {},
   "outputs": [
    {
     "data": {
      "text/plain": [
       "array([-1., -2.])"
      ]
     },
     "execution_count": 9,
     "metadata": {},
     "output_type": "execute_result"
    }
   ],
   "source": [
    "A = np.array([[0, 1], [-2, -3]])\n",
    "value, vectors = np.linalg.eig(A)\n",
    "value"
   ]
  },
  {
   "cell_type": "code",
   "execution_count": 10,
   "metadata": {},
   "outputs": [
    {
     "data": {
      "text/plain": [
       "0.7071067811865475"
      ]
     },
     "execution_count": 10,
     "metadata": {},
     "output_type": "execute_result"
    }
   ],
   "source": [
    "# Numpy returns normalised results\n",
    "1 / np.linalg.norm([1, -1])"
   ]
  },
  {
   "cell_type": "markdown",
   "metadata": {},
   "source": [
    "### Eigenvector centrality"
   ]
  },
  {
   "cell_type": "markdown",
   "metadata": {},
   "source": [
    "$$\n",
    "\\textbf{Eigenvector centrality is based on the concept of importance of neigbours}. \\\\\n",
    "$$\n",
    "\n",
    "\\begin{equation*}\n",
    "C_{E}(x_{i}) = \\kappa^{-1} \\sum_{j \\in neighbors(i)} C_E(x_{j})\n",
    "\\end{equation*}\n",
    "\\begin{equation*}\n",
    "C_{E}(x_{i}) = \\kappa^{-1} \\sum_{j=1}^{n} A_{ij}C_E(x_{j})\n",
    "\\end{equation*}\n",
    "\n",
    "$$\n",
    "\\textbf{Rewriting in matrix notation:} \\\\\n",
    "$$\n",
    "\\begin{equation*}\n",
    "    \\textbf{C} = \\kappa^{-1} \\textbf{A}\\textbf{C}\n",
    "\\end{equation*}\n",
    "\\begin{equation*}\n",
    "    \\textbf{C} \\kappa =  \\textbf{A}\\textbf{C}\n",
    "\\end{equation*}"
   ]
  },
  {
   "cell_type": "code",
   "execution_count": 11,
   "metadata": {},
   "outputs": [
    {
     "data": {
      "text/plain": [
       "[0.4472135954999579,\n",
       " 0.4472135954999579,\n",
       " 0.4472135954999579,\n",
       " 0.4472135954999579,\n",
       " 0.4472135954999579]"
      ]
     },
     "execution_count": 11,
     "metadata": {},
     "output_type": "execute_result"
    }
   ],
   "source": [
    "# Find expected values of centrality\n",
    "eigen_vector_centrality = list(nx.eigenvector_centrality(circulant_graph).values())\n",
    "eigen_vector_centrality"
   ]
  },
  {
   "cell_type": "code",
   "execution_count": 12,
   "metadata": {},
   "outputs": [
    {
     "data": {
      "text/plain": [
       "array([-1.61803399,  0.61803399,  2.        , -1.61803399,  0.61803399])"
      ]
     },
     "execution_count": 12,
     "metadata": {},
     "output_type": "execute_result"
    }
   ],
   "source": [
    "# Compute adjacency matrix and its eigenvalues\n",
    "A = nx.adjacency_matrix(circulant_graph).todense()\n",
    "eigenvalues, eigenvectors = np.linalg.eig(A)\n",
    "eigenvalues"
   ]
  },
  {
   "cell_type": "code",
   "execution_count": 13,
   "metadata": {},
   "outputs": [
    {
     "data": {
      "text/plain": [
       "2"
      ]
     },
     "execution_count": 13,
     "metadata": {},
     "output_type": "execute_result"
    }
   ],
   "source": [
    "# Find the largest eigenvalue\n",
    "largest_eigenvalue = np.argmax(eigenvalues)\n",
    "largest_eigenvalue"
   ]
  },
  {
   "cell_type": "code",
   "execution_count": 14,
   "metadata": {},
   "outputs": [
    {
     "data": {
      "text/plain": [
       "array([-0.4472136, -0.4472136, -0.4472136, -0.4472136, -0.4472136])"
      ]
     },
     "execution_count": 14,
     "metadata": {},
     "output_type": "execute_result"
    }
   ],
   "source": [
    "# Find the corresponding eigenvector\n",
    "primary_eigen_vector = eigenvectors[:, largest_eigenvalue].flatten().A1\n",
    "primary_eigen_vector"
   ]
  },
  {
   "cell_type": "code",
   "execution_count": 15,
   "metadata": {},
   "outputs": [
    {
     "data": {
      "text/plain": [
       "-1.0"
      ]
     },
     "execution_count": 15,
     "metadata": {},
     "output_type": "execute_result"
    }
   ],
   "source": [
    "# Find the normalising denominator\n",
    "norm = np.sign(primary_eigen_vector.sum()) * np.linalg.norm(primary_eigen_vector)\n",
    "norm"
   ]
  },
  {
   "cell_type": "code",
   "execution_count": 16,
   "metadata": {},
   "outputs": [
    {
     "data": {
      "text/plain": [
       "array([0.4472136, 0.4472136, 0.4472136, 0.4472136, 0.4472136])"
      ]
     },
     "execution_count": 16,
     "metadata": {},
     "output_type": "execute_result"
    }
   ],
   "source": [
    "# Compute the actual values for the centrality\n",
    "eigen_vector_centrality_hat = primary_eigen_vector / norm\n",
    "eigen_vector_centrality_hat"
   ]
  },
  {
   "cell_type": "code",
   "execution_count": 17,
   "metadata": {},
   "outputs": [],
   "source": [
    "# Check if implementation is correct\n",
    "np.testing.assert_array_almost_equal(eigen_vector_centrality_hat, eigen_vector_centrality)"
   ]
  },
  {
   "cell_type": "code",
   "execution_count": 18,
   "metadata": {},
   "outputs": [],
   "source": [
    "def compute_eigenvector_centrality(graph):\n",
    "    # Generate adjacency matrix\n",
    "    A = nx.adjacency_matrix(graph).todense()\n",
    "\n",
    "    # Compute eigenvalues and eigenvectors\n",
    "    eigenvalues, eigenvectors = np.linalg.eig(A,)\n",
    "\n",
    "    # Find the index of the largest eigenvalue\n",
    "    largest_eigenvalue = np.argmax(eigenvalues)\n",
    "\n",
    "    # Find the eigenvector corresponding to the largest eigenvalue\n",
    "    primary_eigen_vector = eigenvectors[:, largest_eigenvalue].flatten().real.A1\n",
    "\n",
    "    # Compute the norm of the eigenvector\n",
    "    norm = np.sign(primary_eigen_vector.sum()) * np.linalg.norm(primary_eigen_vector)\n",
    "\n",
    "    # Compute the eigenvector centrality\n",
    "    eigen_vector_centrality = primary_eigen_vector / norm\n",
    "\n",
    "    return eigen_vector_centrality"
   ]
  },
  {
   "cell_type": "code",
   "execution_count": 19,
   "metadata": {},
   "outputs": [
    {
     "data": {
      "text/plain": [
       "matrix([[0, 1, 0, 0, 1],\n",
       "        [1, 0, 1, 0, 0],\n",
       "        [0, 1, 0, 1, 0],\n",
       "        [0, 0, 1, 0, 1],\n",
       "        [1, 0, 0, 1, 0]])"
      ]
     },
     "execution_count": 19,
     "metadata": {},
     "output_type": "execute_result"
    }
   ],
   "source": [
    "circulant_adjacency_matrix = nx.adjacency_matrix(circulant_graph).todense()\n",
    "circulant_adjacency_matrix"
   ]
  },
  {
   "cell_type": "code",
   "execution_count": 20,
   "metadata": {},
   "outputs": [],
   "source": [
    "np.testing.assert_array_almost_equal(compute_eigenvector_centrality(circulant_graph), eigen_vector_centrality)"
   ]
  },
  {
   "cell_type": "code",
   "execution_count": 21,
   "metadata": {},
   "outputs": [
    {
     "data": {
      "image/png": "[encoded data removed]",
      "text/plain": [
       "<Figure size 432x288 with 1 Axes>"
      ]
     },
     "metadata": {},
     "output_type": "display_data"
    }
   ],
   "source": [
    "# Generate a wheel graph\n",
    "wheel_graph = nx.wheel_graph(5)\n",
    "nx.draw(wheel_graph, with_labels=True)\n"
   ]
  },
  {
   "cell_type": "code",
   "execution_count": 22,
   "metadata": {},
   "outputs": [
    {
     "data": {
      "text/plain": [
       "{0: 1.0, 1: 0.75, 2: 0.75, 3: 0.75, 4: 0.75}"
      ]
     },
     "execution_count": 22,
     "metadata": {},
     "output_type": "execute_result"
    }
   ],
   "source": [
    "# Check degree centrality\n",
    "nx.degree_centrality(wheel_graph)"
   ]
  },
  {
   "cell_type": "code",
   "execution_count": 23,
   "metadata": {},
   "outputs": [
    {
     "data": {
      "text/plain": [
       "array([0.52573111, 0.4253254 , 0.4253254 , 0.4253254 , 0.4253254 ])"
      ]
     },
     "execution_count": 23,
     "metadata": {},
     "output_type": "execute_result"
    }
   ],
   "source": [
    "compute_eigenvector_centrality(wheel_graph)"
   ]
  },
  {
   "cell_type": "code",
   "execution_count": 24,
   "metadata": {},
   "outputs": [
    {
     "data": {
      "image/png": "[encoded data removed]",
      "text/plain": [
       "<Figure size 432x288 with 1 Axes>"
      ]
     },
     "metadata": {},
     "output_type": "display_data"
    }
   ],
   "source": [
    "barbell_graph = nx.barbell_graph(5, 0)\n",
    "nx.draw(barbell_graph, with_labels=True)"
   ]
  },
  {
   "cell_type": "code",
   "execution_count": 25,
   "metadata": {},
   "outputs": [
    {
     "data": {
      "text/plain": [
       "{0: 0.4444444444444444,\n",
       " 1: 0.4444444444444444,\n",
       " 2: 0.4444444444444444,\n",
       " 3: 0.4444444444444444,\n",
       " 4: 0.5555555555555556,\n",
       " 5: 0.5555555555555556,\n",
       " 6: 0.4444444444444444,\n",
       " 7: 0.4444444444444444,\n",
       " 8: 0.4444444444444444,\n",
       " 9: 0.4444444444444444}"
      ]
     },
     "execution_count": 25,
     "metadata": {},
     "output_type": "execute_result"
    }
   ],
   "source": [
    "nx.degree_centrality(barbell_graph)"
   ]
  },
  {
   "cell_type": "code",
   "execution_count": 26,
   "metadata": {},
   "outputs": [
    {
     "data": {
      "text/plain": [
       "array([0.30075048, 0.30075048, 0.30075048, 0.30075048, 0.37174803,\n",
       "       0.37174803, 0.30075048, 0.30075048, 0.30075048, 0.30075048])"
      ]
     },
     "execution_count": 26,
     "metadata": {},
     "output_type": "execute_result"
    }
   ],
   "source": [
    "compute_eigenvector_centrality(barbell_graph)"
   ]
  },
  {
   "cell_type": "code",
   "execution_count": 27,
   "metadata": {},
   "outputs": [],
   "source": [
    "def plot_directed_graph(G):\n",
    "    pos = nx.spring_layout(G)\n",
    "    nx.draw(G, pos, with_labels=True)"
   ]
  },
  {
   "cell_type": "code",
   "execution_count": 28,
   "metadata": {},
   "outputs": [
    {
     "data": {
      "image/png": "[encoded data removed]",
      "text/plain": [
       "<Figure size 432x288 with 1 Axes>"
      ]
     },
     "metadata": {},
     "output_type": "display_data"
    }
   ],
   "source": [
    "random_directed_graph = nx.gnp_random_graph(5, 0.4, directed=True)\n",
    "plot_directed_graph(random_directed_graph)"
   ]
  },
  {
   "cell_type": "code",
   "execution_count": 29,
   "metadata": {},
   "outputs": [
    {
     "data": {
      "text/plain": [
       "{0: 0.1949171998469356,\n",
       " 1: 0.5703868295284052,\n",
       " 2: 0.33343395694087347,\n",
       " 3: 0.5703868295284054,\n",
       " 4: 0.44737770503641494}"
      ]
     },
     "execution_count": 29,
     "metadata": {},
     "output_type": "execute_result"
    }
   ],
   "source": [
    "nx.eigenvector_centrality_numpy(random_directed_graph)"
   ]
  },
  {
   "cell_type": "markdown",
   "metadata": {},
   "source": [
    "<strong> Note: </strong> For a directed graph, networkx considers the left. <br />\n",
    "The equation is rewritten to sum over the centralities of the nodes pointing to the current node. <br />\n",
    "\n",
    "<strong>Thus, a node with all outgoing edges will have a centrality of 0.</strong> \n",
    "The above results show a minimal eigenvector centrality for nodes with no incoming edges but no zero."
   ]
  },
  {
   "cell_type": "markdown",
   "metadata": {},
   "source": [
    "### Katz centrality"
   ]
  },
  {
   "cell_type": "markdown",
   "metadata": {},
   "source": [
    "Eigenvector centrality faces issues with directed graphs such as considering nodes with no incoming edges to have zero centrality.<br />\n",
    "This might not always be desirable. Hence, Katz centrality adds a constant centrality for each node.\n",
    "\n",
    "$$\n",
    "    C_{K}(x_{i}) = \\alpha \\sum_{j=1}^n A_{ij}C_K(x_{j}) + \\beta\n",
    "$$\n",
    "\n",
    "The second term ensures that nodes with no incoming edges have a certain centrality.\n",
    "\n",
    "$$\n",
    "    \\textbf{C} =  \\alpha\\textbf{A}\\textbf{C} + \\beta\\textbf{1}\n",
    "$$\n",
    "$$\n",
    "    \\textbf{C} - \\alpha\\textbf{A}\\textbf{C} = \\beta\\textbf{1} \\\\\n",
    "    \\textbf{C} = \\beta(\\textbf{I} - \\alpha\\textbf{A})^{-1}\\textbf{1}\n",
    "$$\n",
    "\n",
    "Setting $\\beta$ = 1:\n",
    "$$\n",
    "    \\textbf{C} = (\\textbf{I} - \\alpha\\textbf{A})^{-1}\\textbf{1}\n",
    "$$\n",
    "\n",
    "$\\alpha$ cannot be larger than $\\frac{1}{\\kappa_{1}}$, which is the largest positive eigenvalue of $\\textbf{A}$."
   ]
  },
  {
   "cell_type": "code",
   "execution_count": 30,
   "metadata": {},
   "outputs": [
    {
     "data": {
      "image/png": "[encoded data removed]",
      "text/plain": [
       "<Figure size 432x288 with 1 Axes>"
      ]
     },
     "metadata": {},
     "output_type": "display_data"
    }
   ],
   "source": [
    "nx.draw(circulant_graph, with_labels=True)"
   ]
  },
  {
   "cell_type": "code",
   "execution_count": 31,
   "metadata": {},
   "outputs": [
    {
     "data": {
      "text/plain": [
       "{0: 0.4472135954999579,\n",
       " 1: 0.4472135954999579,\n",
       " 2: 0.4472135954999579,\n",
       " 3: 0.4472135954999579,\n",
       " 4: 0.4472135954999579}"
      ]
     },
     "execution_count": 31,
     "metadata": {},
     "output_type": "execute_result"
    }
   ],
   "source": [
    "nx.eigenvector_centrality(circulant_graph)"
   ]
  },
  {
   "cell_type": "code",
   "execution_count": 32,
   "metadata": {},
   "outputs": [
    {
     "data": {
      "text/plain": [
       "{0: 0.4472135954999579,\n",
       " 1: 0.4472135954999579,\n",
       " 2: 0.4472135954999579,\n",
       " 3: 0.4472135954999579,\n",
       " 4: 0.4472135954999579}"
      ]
     },
     "execution_count": 32,
     "metadata": {},
     "output_type": "execute_result"
    }
   ],
   "source": [
    "nx.katz_centrality(circulant_graph, alpha=0.05)"
   ]
  },
  {
   "cell_type": "markdown",
   "metadata": {},
   "source": [
    "Katz centrality was expected to be similar to eigenvector centrality for undirected graphs."
   ]
  },
  {
   "cell_type": "code",
   "execution_count": 33,
   "metadata": {},
   "outputs": [
    {
     "data": {
      "image/png": "[encoded data removed]",
      "text/plain": [
       "<Figure size 432x288 with 1 Axes>"
      ]
     },
     "metadata": {},
     "output_type": "display_data"
    }
   ],
   "source": [
    "nx.draw(random_directed_graph, with_labels=True)"
   ]
  },
  {
   "cell_type": "code",
   "execution_count": 34,
   "metadata": {},
   "outputs": [
    {
     "data": {
      "text/plain": [
       "matrix([[0, 1, 0, 1, 1],\n",
       "        [0, 0, 0, 0, 1],\n",
       "        [1, 1, 0, 1, 0],\n",
       "        [0, 0, 1, 0, 0],\n",
       "        [0, 1, 0, 1, 0]])"
      ]
     },
     "execution_count": 34,
     "metadata": {},
     "output_type": "execute_result"
    }
   ],
   "source": [
    "nx.adjacency_matrix(random_directed_graph).todense()\n"
   ]
  },
  {
   "cell_type": "code",
   "execution_count": 35,
   "metadata": {},
   "outputs": [
    {
     "data": {
      "text/plain": [
       "{0: 0.19491661957203724,\n",
       " 1: 0.5703868468686107,\n",
       " 2: 0.3334333877257062,\n",
       " 3: 0.5703868468686107,\n",
       " 4: 0.4473783378785083}"
      ]
     },
     "execution_count": 35,
     "metadata": {},
     "output_type": "execute_result"
    }
   ],
   "source": [
    "nx.eigenvector_centrality(random_directed_graph)"
   ]
  },
  {
   "cell_type": "code",
   "execution_count": 36,
   "metadata": {},
   "outputs": [
    {
     "data": {
      "text/plain": [
       "{0: 0.40066755078272864,\n",
       " 1: 0.4855796167039366,\n",
       " 2: 0.4083868160910343,\n",
       " 3: 0.4855796167039366,\n",
       " 4: 0.44845355821546695}"
      ]
     },
     "execution_count": 36,
     "metadata": {},
     "output_type": "execute_result"
    }
   ],
   "source": [
    "nx.katz_centrality(random_directed_graph)"
   ]
  },
  {
   "cell_type": "code",
   "execution_count": 37,
   "metadata": {},
   "outputs": [],
   "source": [
    "def compute_katz_centrality(graph, alpha = 0.1, beta = 1):\n",
    "    # Generate adjacency matrix\n",
    "    A = nx.adjacency_matrix(graph).todense().T\n",
    "    \n",
    "    # Generate the identity matrix\n",
    "    n = graph.number_of_nodes()\n",
    "    I = np.eye(n, n)\n",
    "    \n",
    "    # Compute beta vector\n",
    "    beta = np.ones((n, 1)) * float(beta)\n",
    "\n",
    "    # Compute the Katz centrality\n",
    "    katz_centrality = np.linalg.solve(I - alpha * A, beta).flatten()\n",
    "\n",
    "    # TODO - Compute the normalisation denominator\n",
    "    return katz_centrality"
   ]
  },
  {
   "cell_type": "code",
   "execution_count": 38,
   "metadata": {},
   "outputs": [
    {
     "data": {
      "text/plain": [
       "array([1.11349474, 1.3494739 , 1.13494739, 1.3494739 , 1.24629686])"
      ]
     },
     "execution_count": 38,
     "metadata": {},
     "output_type": "execute_result"
    }
   ],
   "source": [
    "compute_katz_centrality(random_directed_graph)"
   ]
  },
  {
   "cell_type": "code",
   "execution_count": 39,
   "metadata": {},
   "outputs": [
    {
     "data": {
      "text/plain": [
       "{0: 1.113494738992747,\n",
       " 1: 1.3494738992746962,\n",
       " 2: 1.1349473899274696,\n",
       " 3: 1.3494738992746962,\n",
       " 4: 1.2462968638267444}"
      ]
     },
     "execution_count": 39,
     "metadata": {},
     "output_type": "execute_result"
    }
   ],
   "source": [
    "nx.katz_centrality_numpy(random_directed_graph, normalized=False)"
   ]
  },
  {
   "cell_type": "markdown",
   "metadata": {},
   "source": [
    "### PageRank"
   ]
  },
  {
   "cell_type": "markdown",
   "metadata": {},
   "source": [
    "A problem with Katz centrality is that a prestigious node conveys it own centrality to all other nodes and thus possibly giving them a centrality that is too high.\n",
    "PageRank is an extension of Katz centrality that solves this problem by dividing the centrality by the number of out-going edges.\n",
    "\n",
    "\\begin{equation*}\n",
    "    C_P(x_{i}) = \\alpha \\sum_{j=1}^n A_{ij} \\frac{C_P(x_{j})}{k_j^{out}} + \\beta\n",
    "\\end{equation*}\n",
    "\n",
    "\\begin{equation*}\n",
    "    \\textbf{C} =  \\alpha\\textbf{A}\\textbf{D}^{-1}\\textbf{C} + \\beta\\textbf{1}\n",
    "\\end{equation*}\n",
    "\\begin{equation*}\n",
    "    \\textbf{C} =  \\beta(\\textbf{I} -\\alpha\\textbf{A}\\textbf{D}^{-1})^{-1}\\textbf{1}\n",
    "\\end{equation*}\n",
    "\\begin{equation*}\n",
    "    \\textbf{C} =  (\\textbf{I} -\\alpha\\textbf{A}\\textbf{D}^{-1})^{-1}\\textbf{1}\n",
    "\\end{equation*}\n",
    "\n",
    "$$\n",
    "where \\quad D_{ii} = max(k_i^{out}, 1)\n",
    "$$\n"
   ]
  },
  {
   "cell_type": "code",
   "execution_count": 40,
   "metadata": {},
   "outputs": [
    {
     "data": {
      "image/png": "[encoded data removed]",
      "text/plain": [
       "<Figure size 432x288 with 1 Axes>"
      ]
     },
     "metadata": {},
     "output_type": "display_data"
    }
   ],
   "source": [
    "nx.draw(random_directed_graph, with_labels=True)"
   ]
  },
  {
   "cell_type": "code",
   "execution_count": 41,
   "metadata": {},
   "outputs": [
    {
     "data": {
      "text/plain": [
       "{0: 0.09199955627699073,\n",
       " 1: 0.22214381392686877,\n",
       " 2: 0.21882307782429541,\n",
       " 3: 0.22214381392686877,\n",
       " 4: 0.24488973804497605}"
      ]
     },
     "execution_count": 41,
     "metadata": {},
     "output_type": "execute_result"
    }
   ],
   "source": [
    "nx.pagerank(random_directed_graph)"
   ]
  },
  {
   "cell_type": "markdown",
   "metadata": {},
   "source": [
    "## Hubs and authorities"
   ]
  },
  {
   "cell_type": "markdown",
   "metadata": {},
   "source": [
    "Hubs => nodes which point to nodes with high centrality => Point to nodes with useful information </br>\n",
    "Authorities => nodes which are pointed to by nodes with high centrality => Contain useful information\n",
    "\n",
    "\\begin{equation*}\n",
    "    Authority = x_{i} = \\alpha \\sum_{j=1}^n A_{ij} y_{j}\n",
    "\\end{equation*}\n",
    "\\begin{equation*}\n",
    "    Hub = y_{i} = \\beta \\sum_{j=1}^n A_{ji} x_{j}\n",
    "\\end{equation*}\n",
    "\n",
    "$$\n",
    "    \\textbf{x} = \\alpha\\textbf{A}\\textbf{y} \\\\\n",
    "    \\textbf{y} = \\beta\\textbf{A}^T\\textbf{x}\n",
    "$$\n",
    "\n",
    "$$\n",
    "    (\\alpha\\beta)^{-1}\\textbf{x} = \\textbf{A}\\textbf{A}^T\\textbf{x} \\\\\n",
    "    \\lambda\\textbf{x} = \\textbf{A}\\textbf{A}^T\\textbf{x} \\\\\n",
    "$$\n",
    "\n",
    "$$\n",
    "    (\\alpha\\beta)^{-1}\\textbf{y} = \\textbf{A}^T\\textbf{A}\\textbf{y} \\\\\n",
    "    \\lambda\\textbf{y} = \\textbf{A}^T\\textbf{A}\\textbf{y} \\\\\n",
    "$$"
   ]
  },
  {
   "cell_type": "code",
   "execution_count": 43,
   "metadata": {},
   "outputs": [],
   "source": [
    "hubs, authorities = nx.hits(random_directed_graph)"
   ]
  },
  {
   "cell_type": "code",
   "execution_count": 44,
   "metadata": {},
   "outputs": [
    {
     "data": {
      "text/plain": [
       "{0: 0.33670867842016283,\n",
       " 1: 0.058391129036823815,\n",
       " 2: 0.32658264315967445,\n",
       " 3: 3.24002782588246e-17,\n",
       " 4: 0.278317549383339}"
      ]
     },
     "execution_count": 44,
     "metadata": {},
     "output_type": "execute_result"
    }
   ],
   "source": [
    "hubs"
   ]
  },
  {
   "cell_type": "code",
   "execution_count": 45,
   "metadata": {},
   "outputs": [
    {
     "data": {
      "text/plain": [
       "{0: 0.1253724208300091,\n",
       " 1: 0.3614759880853392,\n",
       " 2: 8.416230039247155e-17,\n",
       " 3: 0.3614759880853392,\n",
       " 4: 0.1516756029993124}"
      ]
     },
     "execution_count": 45,
     "metadata": {},
     "output_type": "execute_result"
    }
   ],
   "source": [
    "authorities"
   ]
  },
  {
   "cell_type": "markdown",
   "metadata": {},
   "source": [
    "TODO - Add implementation of hubs and authorities algorithm. Simply calculate the eigenvector of the hub and authority matrix."
   ]
  },
  {
   "cell_type": "markdown",
   "metadata": {},
   "source": [
    "### Closeness centrality"
   ]
  },
  {
   "cell_type": "markdown",
   "metadata": {},
   "source": [
    "$$\n",
    "    l_i = \\frac{1}{n} \\sum_{j=1}^n d_{ij} \\\\\n",
    "    C_i = \\frac{1}{l_i} = \\frac{n}{\\sum_{j=1}^n d_{ij}} \\\\\n",
    "    C_i^` = \\frac{1}{n -1} \\sum_{j\\neq i}^n \\frac{1}{d_{ij}}\n",
    "$$"
   ]
  },
  {
   "cell_type": "code",
   "execution_count": 46,
   "metadata": {},
   "outputs": [
    {
     "data": {
      "text/plain": [
       "{0: 0.4, 1: 0.8, 2: 0.5, 3: 0.8, 4: 0.5714285714285714}"
      ]
     },
     "execution_count": 46,
     "metadata": {},
     "output_type": "execute_result"
    }
   ],
   "source": [
    "nx.closeness_centrality(random_directed_graph)"
   ]
  },
  {
   "cell_type": "markdown",
   "metadata": {},
   "source": [
    "TODO - Add implementation with Djikstra's algorithm for shortest path. Try out closeness centrality with actor database.\n"
   ]
  },
  {
   "cell_type": "markdown",
   "metadata": {},
   "source": [
    "### Betweenness centrality"
   ]
  },
  {
   "cell_type": "markdown",
   "metadata": {},
   "source": [
    "$$\n",
    "n_{st}^i = \n",
    "\\begin{cases}\n",
    "    1,& \\text{if i lies on shortest path from s to t}  \\\\\n",
    "    0,              & \\text{otherwise}\n",
    "\\end{cases}\n",
    "$$\n",
    "\n",
    "$$\n",
    "    x_i = \\sum_{st} n_{st}^i \\\\\n",
    "    x_i = \\sum_{st} \\frac{n_{st}^i}{g_{st}} \\\\\n",
    "    x_i = \\frac{1}{n^2}\\sum_{st} \\frac{n_{st}^i}{g_{st}}\n",
    "\n",
    "$$"
   ]
  },
  {
   "cell_type": "code",
   "execution_count": 50,
   "metadata": {},
   "outputs": [
    {
     "data": {
      "image/png": "[encoded data removed]",
      "text/plain": [
       "<Figure size 432x288 with 1 Axes>"
      ]
     },
     "metadata": {},
     "output_type": "display_data"
    }
   ],
   "source": [
    "nx.draw(random_directed_graph, with_labels=True)"
   ]
  },
  {
   "cell_type": "code",
   "execution_count": 49,
   "metadata": {},
   "outputs": [
    {
     "data": {
      "text/plain": [
       "{0: 0.08333333333333333,\n",
       " 1: 0.08333333333333333,\n",
       " 2: 0.41666666666666663,\n",
       " 3: 0.41666666666666663,\n",
       " 4: 0.25}"
      ]
     },
     "execution_count": 49,
     "metadata": {},
     "output_type": "execute_result"
    }
   ],
   "source": [
    "nx.betweenness_centrality(random_directed_graph)"
   ]
  },
  {
   "cell_type": "markdown",
   "metadata": {},
   "source": [
    "TODO - Add implementation"
   ]
  },
  {
   "cell_type": "code",
   "execution_count": null,
   "metadata": {},
   "outputs": [],
   "source": []
  }
 ],
 "metadata": {
  "interpreter": {
   "hash": "90a55106368931a13ee11cd663ede7fedc6d974cad89dbc2c616a0fca0111985"
  },
  "kernelspec": {
   "display_name": "Python 3.9.1 64-bit ('DAV': pyenv)",
   "language": "python",
   "name": "python3"
  },
  "language_info": {
   "codemirror_mode": {
    "name": "ipython",
    "version": 3
   },
   "file_extension": ".py",
   "mimetype": "text/x-python",
   "name": "python",
   "nbconvert_exporter": "python",
   "pygments_lexer": "ipython3",
   "version": "3.9.1"
  },
  "orig_nbformat": 4
 },
 "nbformat": 4,
 "nbformat_minor": 2
}

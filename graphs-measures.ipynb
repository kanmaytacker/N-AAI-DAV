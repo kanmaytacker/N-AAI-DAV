{
 "cells": [
  {
   "cell_type": "code",
   "execution_count": 2,
   "metadata": {},
   "outputs": [
    {
     "name": "stderr",
     "output_type": "stream",
     "text": [
      "/Users/tanmayk/.pyenv/versions/3.9.1/envs/DAV/lib/python3.9/site-packages/pandas/compat/__init__.py:124: UserWarning: Could not import the lzma module. Your installed Python is incomplete. Attempting to use lzma compression will result in a RuntimeError.\n",
      "  warnings.warn(msg)\n"
     ]
    }
   ],
   "source": [
    "import pandas as pd\n",
    "import numpy as np\n",
    "import networkx as nx\n",
    "import matplotlib.pyplot as plt\n",
    "import scipy as sp"
   ]
  },
  {
   "cell_type": "code",
   "execution_count": 3,
   "metadata": {},
   "outputs": [
    {
     "data": {
      "image/png": "[encoded data removed]",
      "text/plain": [
       "<Figure size 432x288 with 1 Axes>"
      ]
     },
     "metadata": {},
     "output_type": "display_data"
    }
   ],
   "source": [
    "# Draw a circulant graph\n",
    "circulant_graph = nx.circulant_graph(5, [1])\n",
    "nx.draw(circulant_graph, with_labels=True)"
   ]
  },
  {
   "cell_type": "markdown",
   "metadata": {},
   "source": [
    "## Degree centrality"
   ]
  },
  {
   "cell_type": "code",
   "execution_count": 4,
   "metadata": {},
   "outputs": [
    {
     "data": {
      "text/plain": [
       "DegreeView({0: 2, 1: 2, 2: 2, 3: 2, 4: 2})"
      ]
     },
     "execution_count": 4,
     "metadata": {},
     "output_type": "execute_result"
    }
   ],
   "source": [
    "# Degree distribution\n",
    "circulant_graph.degree()"
   ]
  },
  {
   "cell_type": "code",
   "execution_count": 5,
   "metadata": {},
   "outputs": [
    {
     "data": {
      "text/plain": [
       "{0: 0.5, 1: 0.5, 2: 0.5, 3: 0.5, 4: 0.5}"
      ]
     },
     "execution_count": 5,
     "metadata": {},
     "output_type": "execute_result"
    }
   ],
   "source": [
    "# Degree centrality\n",
    "nx.degree_centrality(circulant_graph)"
   ]
  },
  {
   "cell_type": "markdown",
   "metadata": {},
   "source": [
    "\\begin{equation}\n",
    "C_{D}(x) = \\frac{k_i}{n-1}\n",
    "\\end{equation}"
   ]
  },
  {
   "cell_type": "code",
   "execution_count": 6,
   "metadata": {},
   "outputs": [],
   "source": [
    "circulant_graph_degrees = [degree for node, degree in circulant_graph.degree()]\n",
    "circulant_degree_centrality = list(nx.degree_centrality(circulant_graph).values())"
   ]
  },
  {
   "cell_type": "code",
   "execution_count": 7,
   "metadata": {},
   "outputs": [
    {
     "data": {
      "text/plain": [
       "[0.5, 0.5, 0.5, 0.5, 0.5]"
      ]
     },
     "execution_count": 7,
     "metadata": {},
     "output_type": "execute_result"
    }
   ],
   "source": [
    "node_count = len(circulant_graph.nodes)\n",
    "degree_centrality_hat = [degree / (node_count - 1) for degree in circulant_graph_degrees]\n",
    "degree_centrality_hat"
   ]
  },
  {
   "cell_type": "code",
   "execution_count": 8,
   "metadata": {},
   "outputs": [],
   "source": [
    "np.testing.assert_array_equal(degree_centrality_hat, circulant_degree_centrality)"
   ]
  },
  {
   "cell_type": "markdown",
   "metadata": {},
   "source": [
    "## Eigenvector centrality"
   ]
  },
  {
   "cell_type": "markdown",
   "metadata": {},
   "source": [
    "### Eigenvectors and eigenvalues"
   ]
  },
  {
   "cell_type": "code",
   "execution_count": 9,
   "metadata": {},
   "outputs": [
    {
     "data": {
      "text/plain": [
       "array([-1., -2.])"
      ]
     },
     "execution_count": 9,
     "metadata": {},
     "output_type": "execute_result"
    }
   ],
   "source": [
    "A = np.array([[0, 1], [-2, -3]])\n",
    "value, vectors = np.linalg.eig(A)\n",
    "value"
   ]
  },
  {
   "cell_type": "code",
   "execution_count": 10,
   "metadata": {},
   "outputs": [
    {
     "data": {
      "text/plain": [
       "0.7071067811865475"
      ]
     },
     "execution_count": 10,
     "metadata": {},
     "output_type": "execute_result"
    }
   ],
   "source": [
    "# Numpy returns normalised results\n",
    "1 / np.linalg.norm([1, -1])"
   ]
  },
  {
   "cell_type": "markdown",
   "metadata": {},
   "source": [
    "### Eigenvector centrality"
   ]
  },
  {
   "cell_type": "markdown",
   "metadata": {},
   "source": [
    "$$\n",
    "\\textbf{Eigenvector centrality is based on the concept of importance of neigbours}. \\\\\n",
    "$$\n",
    "\n",
    "\\begin{equation*}\n",
    "C_{E}(x_{i}) = \\kappa^{-1} \\sum_{j \\in neighbors(i)} C_E(x_{j})\n",
    "\\end{equation*}\n",
    "\\begin{equation*}\n",
    "C_{E}(x_{i}) = \\kappa^{-1} \\sum_{j=1}^{n} A_{ij}C_E(x_{j})\n",
    "\\end{equation*}\n",
    "\n",
    "$$\n",
    "\\textbf{Rewriting in matrix notation:} \\\\\n",
    "$$\n",
    "\\begin{equation*}\n",
    "    \\textbf{C} = \\kappa^{-1} \\textbf{A}\\textbf{C}\n",
    "\\end{equation*}\n",
    "\\begin{equation*}\n",
    "    \\textbf{C} \\kappa =  \\textbf{A}\\textbf{C}\n",
    "\\end{equation*}"
   ]
  },
  {
   "cell_type": "code",
   "execution_count": 11,
   "metadata": {},
   "outputs": [
    {
     "data": {
      "text/plain": [
       "[0.4472135954999579,\n",
       " 0.4472135954999579,\n",
       " 0.4472135954999579,\n",
       " 0.4472135954999579,\n",
       " 0.4472135954999579]"
      ]
     },
     "execution_count": 11,
     "metadata": {},
     "output_type": "execute_result"
    }
   ],
   "source": [
    "# Find expected values of centrality\n",
    "eigen_vector_centrality = list(nx.eigenvector_centrality(circulant_graph).values())\n",
    "eigen_vector_centrality"
   ]
  },
  {
   "cell_type": "code",
   "execution_count": 12,
   "metadata": {},
   "outputs": [
    {
     "data": {
      "text/plain": [
       "array([-1.61803399,  0.61803399,  2.        , -1.61803399,  0.61803399])"
      ]
     },
     "execution_count": 12,
     "metadata": {},
     "output_type": "execute_result"
    }
   ],
   "source": [
    "# Compute adjacency matrix and its eigenvalues\n",
    "A = nx.adjacency_matrix(circulant_graph).todense()\n",
    "eigenvalues, eigenvectors = np.linalg.eig(A)\n",
    "eigenvalues"
   ]
  },
  {
   "cell_type": "code",
   "execution_count": 13,
   "metadata": {},
   "outputs": [
    {
     "data": {
      "text/plain": [
       "2"
      ]
     },
     "execution_count": 13,
     "metadata": {},
     "output_type": "execute_result"
    }
   ],
   "source": [
    "# Find the largest eigenvalue\n",
    "largest_eigenvalue = np.argmax(eigenvalues)\n",
    "largest_eigenvalue"
   ]
  },
  {
   "cell_type": "code",
   "execution_count": 14,
   "metadata": {},
   "outputs": [
    {
     "data": {
      "text/plain": [
       "array([-0.4472136, -0.4472136, -0.4472136, -0.4472136, -0.4472136])"
      ]
     },
     "execution_count": 14,
     "metadata": {},
     "output_type": "execute_result"
    }
   ],
   "source": [
    "# Find the corresponding eigenvector\n",
    "primary_eigen_vector = eigenvectors[:, largest_eigenvalue].flatten().A1\n",
    "primary_eigen_vector"
   ]
  },
  {
   "cell_type": "code",
   "execution_count": 15,
   "metadata": {},
   "outputs": [
    {
     "data": {
      "text/plain": [
       "-1.0"
      ]
     },
     "execution_count": 15,
     "metadata": {},
     "output_type": "execute_result"
    }
   ],
   "source": [
    "# Find the normalising denominator\n",
    "norm = np.sign(primary_eigen_vector.sum()) * np.linalg.norm(primary_eigen_vector)\n",
    "norm"
   ]
  },
  {
   "cell_type": "code",
   "execution_count": 16,
   "metadata": {},
   "outputs": [
    {
     "data": {
      "text/plain": [
       "array([0.4472136, 0.4472136, 0.4472136, 0.4472136, 0.4472136])"
      ]
     },
     "execution_count": 16,
     "metadata": {},
     "output_type": "execute_result"
    }
   ],
   "source": [
    "# Compute the actual values for the centrality\n",
    "eigen_vector_centrality_hat = primary_eigen_vector / norm\n",
    "eigen_vector_centrality_hat"
   ]
  },
  {
   "cell_type": "code",
   "execution_count": 17,
   "metadata": {},
   "outputs": [],
   "source": [
    "# Check if implementation is correct\n",
    "np.testing.assert_array_almost_equal(eigen_vector_centrality_hat, eigen_vector_centrality)"
   ]
  },
  {
   "cell_type": "code",
   "execution_count": 18,
   "metadata": {},
   "outputs": [],
   "source": [
    "def compute_eigenvector_centrality(graph):\n",
    "    # Generate adjacency matrix\n",
    "    A = nx.adjacency_matrix(graph).todense()\n",
    "\n",
    "    # Compute eigenvalues and eigenvectors\n",
    "    eigenvalues, eigenvectors = np.linalg.eig(A,)\n",
    "\n",
    "    # Find the index of the largest eigenvalue\n",
    "    largest_eigenvalue = np.argmax(eigenvalues)\n",
    "\n",
    "    # Find the eigenvector corresponding to the largest eigenvalue\n",
    "    primary_eigen_vector = eigenvectors[:, largest_eigenvalue].flatten().real.A1\n",
    "\n",
    "    # Compute the norm of the eigenvector\n",
    "    norm = np.sign(primary_eigen_vector.sum()) * np.linalg.norm(primary_eigen_vector)\n",
    "\n",
    "    # Compute the eigenvector centrality\n",
    "    eigen_vector_centrality = primary_eigen_vector / norm\n",
    "\n",
    "    return eigen_vector_centrality"
   ]
  },
  {
   "cell_type": "code",
   "execution_count": 19,
   "metadata": {},
   "outputs": [
    {
     "data": {
      "text/plain": [
       "matrix([[0, 1, 0, 0, 1],\n",
       "        [1, 0, 1, 0, 0],\n",
       "        [0, 1, 0, 1, 0],\n",
       "        [0, 0, 1, 0, 1],\n",
       "        [1, 0, 0, 1, 0]])"
      ]
     },
     "execution_count": 19,
     "metadata": {},
     "output_type": "execute_result"
    }
   ],
   "source": [
    "circulant_adjacency_matrix = nx.adjacency_matrix(circulant_graph).todense()\n",
    "circulant_adjacency_matrix"
   ]
  },
  {
   "cell_type": "code",
   "execution_count": 20,
   "metadata": {},
   "outputs": [],
   "source": [
    "np.testing.assert_array_almost_equal(compute_eigenvector_centrality(circulant_graph), eigen_vector_centrality)"
   ]
  },
  {
   "cell_type": "code",
   "execution_count": 21,
   "metadata": {},
   "outputs": [
    {
     "data": {
      "image/png": "[encoded data removed]",
      "text/plain": [
       "<Figure size 432x288 with 1 Axes>"
      ]
     },
     "metadata": {},
     "output_type": "display_data"
    }
   ],
   "source": [
    "# Generate a wheel graph\n",
    "wheel_graph = nx.wheel_graph(5)\n",
    "nx.draw(wheel_graph, with_labels=True)\n"
   ]
  },
  {
   "cell_type": "code",
   "execution_count": 22,
   "metadata": {},
   "outputs": [
    {
     "data": {
      "text/plain": [
       "{0: 1.0, 1: 0.75, 2: 0.75, 3: 0.75, 4: 0.75}"
      ]
     },
     "execution_count": 22,
     "metadata": {},
     "output_type": "execute_result"
    }
   ],
   "source": [
    "# Check degree centrality\n",
    "nx.degree_centrality(wheel_graph)"
   ]
  },
  {
   "cell_type": "code",
   "execution_count": 23,
   "metadata": {},
   "outputs": [
    {
     "data": {
      "text/plain": [
       "array([0.52573111, 0.4253254 , 0.4253254 , 0.4253254 , 0.4253254 ])"
      ]
     },
     "execution_count": 23,
     "metadata": {},
     "output_type": "execute_result"
    }
   ],
   "source": [
    "compute_eigenvector_centrality(wheel_graph)"
   ]
  },
  {
   "cell_type": "code",
   "execution_count": 24,
   "metadata": {},
   "outputs": [
    {
     "data": {
      "image/png": "[encoded data removed]",
      "text/plain": [
       "<Figure size 432x288 with 1 Axes>"
      ]
     },
     "metadata": {},
     "output_type": "display_data"
    }
   ],
   "source": [
    "barbell_graph = nx.barbell_graph(5, 0)\n",
    "nx.draw(barbell_graph, with_labels=True)"
   ]
  },
  {
   "cell_type": "code",
   "execution_count": 25,
   "metadata": {},
   "outputs": [
    {
     "data": {
      "text/plain": [
       "{0: 0.4444444444444444,\n",
       " 1: 0.4444444444444444,\n",
       " 2: 0.4444444444444444,\n",
       " 3: 0.4444444444444444,\n",
       " 4: 0.5555555555555556,\n",
       " 5: 0.5555555555555556,\n",
       " 6: 0.4444444444444444,\n",
       " 7: 0.4444444444444444,\n",
       " 8: 0.4444444444444444,\n",
       " 9: 0.4444444444444444}"
      ]
     },
     "execution_count": 25,
     "metadata": {},
     "output_type": "execute_result"
    }
   ],
   "source": [
    "nx.degree_centrality(barbell_graph)"
   ]
  },
  {
   "cell_type": "code",
   "execution_count": 26,
   "metadata": {},
   "outputs": [
    {
     "data": {
      "text/plain": [
       "array([0.30075048, 0.30075048, 0.30075048, 0.30075048, 0.37174803,\n",
       "       0.37174803, 0.30075048, 0.30075048, 0.30075048, 0.30075048])"
      ]
     },
     "execution_count": 26,
     "metadata": {},
     "output_type": "execute_result"
    }
   ],
   "source": [
    "compute_eigenvector_centrality(barbell_graph)"
   ]
  },
  {
   "cell_type": "code",
   "execution_count": 27,
   "metadata": {},
   "outputs": [],
   "source": [
    "def plot_directed_graph(G):\n",
    "    pos = nx.spring_layout(G)\n",
    "    nx.draw(G, pos, with_labels=True)"
   ]
  },
  {
   "cell_type": "code",
   "execution_count": 28,
   "metadata": {},
   "outputs": [
    {
     "data": {
      "image/png": "[encoded data removed]",
      "text/plain": [
       "<Figure size 432x288 with 1 Axes>"
      ]
     },
     "metadata": {},
     "output_type": "display_data"
    }
   ],
   "source": [
    "random_directed_graph = nx.gnp_random_graph(5, 0.4, directed=True)\n",
    "plot_directed_graph(random_directed_graph)"
   ]
  },
  {
   "cell_type": "code",
   "execution_count": 29,
   "metadata": {},
   "outputs": [
    {
     "data": {
      "text/plain": [
       "{0: 0.8944271909999157,\n",
       " 1: 0.22360679774997913,\n",
       " 2: 0.22360679774997858,\n",
       " 3: 0.22360679774997885,\n",
       " 4: 0.22360679774997916}"
      ]
     },
     "execution_count": 29,
     "metadata": {},
     "output_type": "execute_result"
    }
   ],
   "source": [
    "nx.eigenvector_centrality_numpy(random_directed_graph)"
   ]
  },
  {
   "cell_type": "markdown",
   "metadata": {},
   "source": [
    "<strong> Note: </strong> For a directed graph, networkx considers the left. <br />\n",
    "The equation is rewritten to sum over the centralities of the nodes pointing to the current node. <br />\n",
    "\n",
    "<strong>Thus, a node with all outgoing edges will have a centrality of 0.</strong> \n",
    "The above results show a minimal eigenvector centrality for nodes with no incoming edges but no zero."
   ]
  },
  {
   "cell_type": "markdown",
   "metadata": {},
   "source": [
    "### Katz centrality"
   ]
  },
  {
   "cell_type": "markdown",
   "metadata": {},
   "source": [
    "Eigenvector centrality faces issues with directed graphs such as considering nodes with no incoming edges to have zero centrality.<br />\n",
    "This might not always be desirable. Hence, Katz centrality adds a constant centrality for each node.\n",
    "\n",
    "$$\n",
    "    C_{K}(x_{i}) = \\alpha \\sum_{j=1}^n A_{ij}C_K(x_{j}) + \\beta\n",
    "$$\n",
    "\n",
    "The second term ensures that nodes with no incoming edges have a certain centrality.\n",
    "\n",
    "$$\n",
    "    \\textbf{C} =  \\alpha\\textbf{A}\\textbf{C} + \\beta\\textbf{1}\n",
    "$$\n",
    "$$\n",
    "    \\textbf{C} - \\alpha\\textbf{A}\\textbf{C} = \\beta\\textbf{1} \\\\\n",
    "    \\textbf{C} = \\beta(\\textbf{I} - \\alpha\\textbf{A})^{-1}\\textbf{1}\n",
    "$$\n",
    "\n",
    "Setting $\\beta$ = 1:\n",
    "$$\n",
    "    \\textbf{C} = (\\textbf{I} - \\alpha\\textbf{A})^{-1}\\textbf{1}\n",
    "$$\n",
    "\n",
    "$\\alpha$ cannot be larger than $\\frac{1}{\\kappa_{1}}$, which is the largest positive eigenvalue of $\\textbf{A}$."
   ]
  },
  {
   "cell_type": "code",
   "execution_count": 30,
   "metadata": {},
   "outputs": [
    {
     "data": {
      "image/png": "[encoded data removed]",
      "text/plain": [
       "<Figure size 432x288 with 1 Axes>"
      ]
     },
     "metadata": {},
     "output_type": "display_data"
    }
   ],
   "source": [
    "nx.draw(circulant_graph, with_labels=True)"
   ]
  },
  {
   "cell_type": "code",
   "execution_count": 31,
   "metadata": {},
   "outputs": [
    {
     "data": {
      "text/plain": [
       "{0: 0.4472135954999579,\n",
       " 1: 0.4472135954999579,\n",
       " 2: 0.4472135954999579,\n",
       " 3: 0.4472135954999579,\n",
       " 4: 0.4472135954999579}"
      ]
     },
     "execution_count": 31,
     "metadata": {},
     "output_type": "execute_result"
    }
   ],
   "source": [
    "nx.eigenvector_centrality(circulant_graph)"
   ]
  },
  {
   "cell_type": "code",
   "execution_count": 32,
   "metadata": {},
   "outputs": [
    {
     "data": {
      "text/plain": [
       "{0: 0.4472135954999579,\n",
       " 1: 0.4472135954999579,\n",
       " 2: 0.4472135954999579,\n",
       " 3: 0.4472135954999579,\n",
       " 4: 0.4472135954999579}"
      ]
     },
     "execution_count": 32,
     "metadata": {},
     "output_type": "execute_result"
    }
   ],
   "source": [
    "nx.katz_centrality(circulant_graph, alpha=0.05)"
   ]
  },
  {
   "cell_type": "markdown",
   "metadata": {},
   "source": [
    "Katz centrality was expected to be similar to eigenvector centrality for undirected graphs."
   ]
  },
  {
   "cell_type": "code",
   "execution_count": 33,
   "metadata": {},
   "outputs": [
    {
     "data": {
      "image/png": "[encoded data removed]",
      "text/plain": [
       "<Figure size 432x288 with 1 Axes>"
      ]
     },
     "metadata": {},
     "output_type": "display_data"
    }
   ],
   "source": [
    "nx.draw(random_directed_graph, with_labels=True)"
   ]
  },
  {
   "cell_type": "code",
   "execution_count": 34,
   "metadata": {},
   "outputs": [
    {
     "data": {
      "text/plain": [
       "matrix([[0, 0, 0, 0, 0],\n",
       "        [1, 0, 1, 0, 0],\n",
       "        [1, 0, 0, 0, 1],\n",
       "        [1, 0, 0, 0, 0],\n",
       "        [1, 1, 0, 1, 0]])"
      ]
     },
     "execution_count": 34,
     "metadata": {},
     "output_type": "execute_result"
    }
   ],
   "source": [
    "nx.adjacency_matrix(random_directed_graph).todense()\n"
   ]
  },
  {
   "cell_type": "code",
   "execution_count": 35,
   "metadata": {},
   "outputs": [
    {
     "data": {
      "text/plain": [
       "{0: 0.8944266792028148,\n",
       " 1: 0.22360730954634794,\n",
       " 2: 0.22360730954634794,\n",
       " 3: 0.22360730954634794,\n",
       " 4: 0.22360730954634794}"
      ]
     },
     "execution_count": 35,
     "metadata": {},
     "output_type": "execute_result"
    }
   ],
   "source": [
    "nx.eigenvector_centrality(random_directed_graph)"
   ]
  },
  {
   "cell_type": "code",
   "execution_count": 36,
   "metadata": {},
   "outputs": [
    {
     "data": {
      "text/plain": [
       "{0: 0.5449883426383042,\n",
       " 1: 0.4192218107363794,\n",
       " 2: 0.4192218107363794,\n",
       " 3: 0.4192218107363794,\n",
       " 4: 0.4192218107363794}"
      ]
     },
     "execution_count": 36,
     "metadata": {},
     "output_type": "execute_result"
    }
   ],
   "source": [
    "nx.katz_centrality(random_directed_graph)"
   ]
  },
  {
   "cell_type": "code",
   "execution_count": 37,
   "metadata": {},
   "outputs": [],
   "source": [
    "def compute_katz_centrality(graph, alpha = 0.1, beta = 1):\n",
    "    # Generate adjacency matrix\n",
    "    A = nx.adjacency_matrix(graph).todense().T\n",
    "    \n",
    "    # Generate the identity matrix\n",
    "    n = graph.number_of_nodes()\n",
    "    I = np.eye(n, n)\n",
    "    \n",
    "    # Compute beta vector\n",
    "    beta = np.ones((n, 1)) * float(beta)\n",
    "\n",
    "    # Compute the Katz centrality\n",
    "    katz_centrality = np.linalg.solve(I - alpha * A, beta).flatten()\n",
    "\n",
    "    # TODO - Compute the normalisation denominator\n",
    "    return katz_centrality"
   ]
  },
  {
   "cell_type": "code",
   "execution_count": 38,
   "metadata": {},
   "outputs": [
    {
     "data": {
      "text/plain": [
       "array([1.44444444, 1.11111111, 1.11111111, 1.11111111, 1.11111111])"
      ]
     },
     "execution_count": 38,
     "metadata": {},
     "output_type": "execute_result"
    }
   ],
   "source": [
    "compute_katz_centrality(random_directed_graph)"
   ]
  },
  {
   "cell_type": "code",
   "execution_count": 39,
   "metadata": {},
   "outputs": [
    {
     "data": {
      "text/plain": [
       "{0: 1.4444444444444446,\n",
       " 1: 1.1111111111111112,\n",
       " 2: 1.1111111111111112,\n",
       " 3: 1.1111111111111112,\n",
       " 4: 1.1111111111111112}"
      ]
     },
     "execution_count": 39,
     "metadata": {},
     "output_type": "execute_result"
    }
   ],
   "source": [
    "nx.katz_centrality_numpy(random_directed_graph, normalized=False)"
   ]
  },
  {
   "cell_type": "markdown",
   "metadata": {},
   "source": [
    "### PageRank"
   ]
  },
  {
   "cell_type": "markdown",
   "metadata": {},
   "source": [
    "A problem with Katz centrality is that a prestigious node conveys it own centrality to all other nodes and thus possibly giving them a centrality that is too high.\n",
    "PageRank is an extension of Katz centrality that solves this problem by dividing the centrality by the number of out-going edges.\n",
    "\n",
    "\\begin{equation*}\n",
    "    C_P(x_{i}) = \\alpha \\sum_{j=1}^n A_{ij} \\frac{C_P(x_{j})}{k_j^{out}} + \\beta\n",
    "\\end{equation*}\n",
    "\n",
    "\\begin{equation*}\n",
    "    \\textbf{C} =  \\alpha\\textbf{A}\\textbf{D}^{-1}\\textbf{C} + \\beta\\textbf{1}\n",
    "\\end{equation*}\n",
    "\\begin{equation*}\n",
    "    \\textbf{C} =  \\beta(\\textbf{I} -\\alpha\\textbf{A}\\textbf{D}^{-1})^{-1}\\textbf{1}\n",
    "\\end{equation*}\n",
    "\\begin{equation*}\n",
    "    \\textbf{C} =  (\\textbf{I} -\\alpha\\textbf{A}\\textbf{D}^{-1})^{-1}\\textbf{1}\n",
    "\\end{equation*}\n",
    "\n",
    "$$\n",
    "where \\quad D_{ii} = max(k_i^{out}, 1)\n",
    "$$\n"
   ]
  },
  {
   "cell_type": "code",
   "execution_count": 40,
   "metadata": {},
   "outputs": [
    {
     "data": {
      "image/png": "[encoded data removed]",
      "text/plain": [
       "<Figure size 432x288 with 1 Axes>"
      ]
     },
     "metadata": {},
     "output_type": "display_data"
    }
   ],
   "source": [
    "nx.draw(random_directed_graph, with_labels=True)"
   ]
  },
  {
   "cell_type": "code",
   "execution_count": 41,
   "metadata": {},
   "outputs": [
    {
     "data": {
      "text/plain": [
       "{0: 0.3925354399998061,\n",
       " 1: 0.14311027770292237,\n",
       " 2: 0.15755297049132044,\n",
       " 3: 0.14311027770292237,\n",
       " 4: 0.16369103410302885}"
      ]
     },
     "execution_count": 41,
     "metadata": {},
     "output_type": "execute_result"
    }
   ],
   "source": [
    "nx.pagerank(random_directed_graph)"
   ]
  }
 ],
 "metadata": {
  "interpreter": {
   "hash": "90a55106368931a13ee11cd663ede7fedc6d974cad89dbc2c616a0fca0111985"
  },
  "kernelspec": {
   "display_name": "Python 3.9.1 64-bit ('DAV': pyenv)",
   "language": "python",
   "name": "python3"
  },
  "language_info": {
   "codemirror_mode": {
    "name": "ipython",
    "version": 3
   },
   "file_extension": ".py",
   "mimetype": "text/x-python",
   "name": "python",
   "nbconvert_exporter": "python",
   "pygments_lexer": "ipython3",
   "version": "3.9.1"
  },
  "orig_nbformat": 4
 },
 "nbformat": 4,
 "nbformat_minor": 2
}
